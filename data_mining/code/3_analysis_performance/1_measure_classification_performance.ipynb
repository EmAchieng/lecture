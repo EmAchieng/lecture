{
 "cells": [
  {
   "cell_type": "code",
   "execution_count": 1,
   "metadata": {
    "ExecuteTime": {
     "end_time": "2016-07-29T01:06:33.785766",
     "start_time": "2016-07-29T01:06:33.434188"
    },
    "collapsed": true
   },
   "outputs": [],
   "source": [
    "import pandas as pd\n",
    "import numpy as np"
   ]
  },
  {
   "cell_type": "code",
   "execution_count": 4,
   "metadata": {
    "ExecuteTime": {
     "end_time": "2016-07-29T01:06:34.930959",
     "start_time": "2016-07-29T01:06:34.442566"
    },
    "collapsed": false
   },
   "outputs": [],
   "source": [
    "data_source = \"dds_ch5_binary-class-dataset.txt\"\n",
    "df = pd.read_table(data_source)"
   ]
  },
  {
   "cell_type": "code",
   "execution_count": 5,
   "metadata": {
    "ExecuteTime": {
     "end_time": "2016-07-29T01:06:35.700030",
     "start_time": "2016-07-29T01:06:35.689629"
    },
    "collapsed": false
   },
   "outputs": [
    {
     "data": {
      "text/plain": [
       "(54584, 22)"
      ]
     },
     "execution_count": 5,
     "metadata": {},
     "output_type": "execute_result"
    }
   ],
   "source": [
    "df[:].shape"
   ]
  },
  {
   "cell_type": "code",
   "execution_count": 6,
   "metadata": {
    "ExecuteTime": {
     "end_time": "2016-07-29T01:06:36.687106",
     "start_time": "2016-07-29T01:06:36.674103"
    },
    "collapsed": false,
    "scrolled": true
   },
   "outputs": [
    {
     "data": {
      "text/plain": [
       "at_buy_boolean                 int64\n",
       "at_freq_buy                    int64\n",
       "at_freq_last24_buy             int64\n",
       "at_freq_last24_sv              int64\n",
       "at_freq_last24_sv_int_buy      int64\n",
       "at_freq_sv                     int64\n",
       "at_freq_sv_int_buy             int64\n",
       "at_interval_buy              float64\n",
       "at_interval_sv               float64\n",
       "at_interval_sv_int_buy       float64\n",
       "expected_time_buy            float64\n",
       "expected_time_sv             float64\n",
       "expected_time_sv_int_buy     float64\n",
       "last_buy                       int64\n",
       "last_sv                        int64\n",
       "last_sv_int_buy                int64\n",
       "multiple_buy                   int64\n",
       "multiple_sv                    int64\n",
       "multiple_sv_int_buy            int64\n",
       "uniq_content_links             int64\n",
       "num_checkins                   int64\n",
       "y_buy                          int64\n",
       "dtype: object"
      ]
     },
     "execution_count": 6,
     "metadata": {},
     "output_type": "execute_result"
    }
   ],
   "source": [
    "df.dtypes"
   ]
  },
  {
   "cell_type": "code",
   "execution_count": 7,
   "metadata": {
    "ExecuteTime": {
     "end_time": "2016-07-29T01:06:37.749547",
     "start_time": "2016-07-29T01:06:37.730969"
    },
    "collapsed": false
   },
   "outputs": [
    {
     "data": {
      "text/html": [
       "<div>\n",
       "<table border=\"1\" class=\"dataframe\">\n",
       "  <thead>\n",
       "    <tr style=\"text-align: right;\">\n",
       "      <th></th>\n",
       "      <th>at_buy_boolean</th>\n",
       "      <th>at_freq_buy</th>\n",
       "      <th>at_freq_last24_buy</th>\n",
       "      <th>at_freq_last24_sv</th>\n",
       "      <th>at_freq_last24_sv_int_buy</th>\n",
       "      <th>at_freq_sv</th>\n",
       "      <th>at_freq_sv_int_buy</th>\n",
       "      <th>at_interval_buy</th>\n",
       "      <th>at_interval_sv</th>\n",
       "      <th>at_interval_sv_int_buy</th>\n",
       "      <th>...</th>\n",
       "      <th>expected_time_sv_int_buy</th>\n",
       "      <th>last_buy</th>\n",
       "      <th>last_sv</th>\n",
       "      <th>last_sv_int_buy</th>\n",
       "      <th>multiple_buy</th>\n",
       "      <th>multiple_sv</th>\n",
       "      <th>multiple_sv_int_buy</th>\n",
       "      <th>uniq_content_links</th>\n",
       "      <th>num_checkins</th>\n",
       "      <th>y_buy</th>\n",
       "    </tr>\n",
       "  </thead>\n",
       "  <tbody>\n",
       "    <tr>\n",
       "      <th>count</th>\n",
       "      <td>54584.000000</td>\n",
       "      <td>54584.000000</td>\n",
       "      <td>54584.000000</td>\n",
       "      <td>54584.000000</td>\n",
       "      <td>54584.000000</td>\n",
       "      <td>54584.000000</td>\n",
       "      <td>54584.000000</td>\n",
       "      <td>54584.000000</td>\n",
       "      <td>54584.000000</td>\n",
       "      <td>54584.000000</td>\n",
       "      <td>...</td>\n",
       "      <td>54584.000000</td>\n",
       "      <td>54584.000000</td>\n",
       "      <td>54584.000000</td>\n",
       "      <td>54584.000000</td>\n",
       "      <td>54584.000000</td>\n",
       "      <td>54584.000000</td>\n",
       "      <td>54584.000000</td>\n",
       "      <td>54584.000000</td>\n",
       "      <td>54584.000000</td>\n",
       "      <td>54584.000000</td>\n",
       "    </tr>\n",
       "    <tr>\n",
       "      <th>mean</th>\n",
       "      <td>0.042632</td>\n",
       "      <td>0.052891</td>\n",
       "      <td>0.001942</td>\n",
       "      <td>0.117049</td>\n",
       "      <td>0.023542</td>\n",
       "      <td>1.852777</td>\n",
       "      <td>0.271636</td>\n",
       "      <td>0.210008</td>\n",
       "      <td>5.825610</td>\n",
       "      <td>0.381641</td>\n",
       "      <td>...</td>\n",
       "      <td>-0.953705</td>\n",
       "      <td>2.791221</td>\n",
       "      <td>64.729335</td>\n",
       "      <td>1.790671</td>\n",
       "      <td>0.006357</td>\n",
       "      <td>0.277444</td>\n",
       "      <td>0.032739</td>\n",
       "      <td>86.569343</td>\n",
       "      <td>720.657592</td>\n",
       "      <td>0.004635</td>\n",
       "    </tr>\n",
       "    <tr>\n",
       "      <th>std</th>\n",
       "      <td>0.202027</td>\n",
       "      <td>0.298157</td>\n",
       "      <td>0.051682</td>\n",
       "      <td>0.822048</td>\n",
       "      <td>0.483363</td>\n",
       "      <td>2.921820</td>\n",
       "      <td>2.206286</td>\n",
       "      <td>3.922016</td>\n",
       "      <td>17.595442</td>\n",
       "      <td>3.884156</td>\n",
       "      <td>...</td>\n",
       "      <td>9.792084</td>\n",
       "      <td>17.426907</td>\n",
       "      <td>53.476658</td>\n",
       "      <td>13.042733</td>\n",
       "      <td>0.079479</td>\n",
       "      <td>0.447742</td>\n",
       "      <td>0.177953</td>\n",
       "      <td>61.969765</td>\n",
       "      <td>1275.727306</td>\n",
       "      <td>0.067924</td>\n",
       "    </tr>\n",
       "    <tr>\n",
       "      <th>min</th>\n",
       "      <td>0.000000</td>\n",
       "      <td>0.000000</td>\n",
       "      <td>0.000000</td>\n",
       "      <td>0.000000</td>\n",
       "      <td>0.000000</td>\n",
       "      <td>0.000000</td>\n",
       "      <td>0.000000</td>\n",
       "      <td>0.000000</td>\n",
       "      <td>0.000000</td>\n",
       "      <td>0.000000</td>\n",
       "      <td>...</td>\n",
       "      <td>-183.362600</td>\n",
       "      <td>0.000000</td>\n",
       "      <td>0.000000</td>\n",
       "      <td>0.000000</td>\n",
       "      <td>0.000000</td>\n",
       "      <td>0.000000</td>\n",
       "      <td>0.000000</td>\n",
       "      <td>-1.000000</td>\n",
       "      <td>1.000000</td>\n",
       "      <td>0.000000</td>\n",
       "    </tr>\n",
       "    <tr>\n",
       "      <th>25%</th>\n",
       "      <td>0.000000</td>\n",
       "      <td>0.000000</td>\n",
       "      <td>0.000000</td>\n",
       "      <td>0.000000</td>\n",
       "      <td>0.000000</td>\n",
       "      <td>1.000000</td>\n",
       "      <td>0.000000</td>\n",
       "      <td>0.000000</td>\n",
       "      <td>0.000000</td>\n",
       "      <td>0.000000</td>\n",
       "      <td>...</td>\n",
       "      <td>0.000000</td>\n",
       "      <td>0.000000</td>\n",
       "      <td>18.000000</td>\n",
       "      <td>0.000000</td>\n",
       "      <td>0.000000</td>\n",
       "      <td>0.000000</td>\n",
       "      <td>0.000000</td>\n",
       "      <td>30.000000</td>\n",
       "      <td>127.000000</td>\n",
       "      <td>0.000000</td>\n",
       "    </tr>\n",
       "    <tr>\n",
       "      <th>50%</th>\n",
       "      <td>0.000000</td>\n",
       "      <td>0.000000</td>\n",
       "      <td>0.000000</td>\n",
       "      <td>0.000000</td>\n",
       "      <td>0.000000</td>\n",
       "      <td>1.000000</td>\n",
       "      <td>0.000000</td>\n",
       "      <td>0.000000</td>\n",
       "      <td>0.000000</td>\n",
       "      <td>0.000000</td>\n",
       "      <td>...</td>\n",
       "      <td>0.000000</td>\n",
       "      <td>0.000000</td>\n",
       "      <td>51.000000</td>\n",
       "      <td>0.000000</td>\n",
       "      <td>0.000000</td>\n",
       "      <td>0.000000</td>\n",
       "      <td>0.000000</td>\n",
       "      <td>75.000000</td>\n",
       "      <td>319.000000</td>\n",
       "      <td>0.000000</td>\n",
       "    </tr>\n",
       "    <tr>\n",
       "      <th>75%</th>\n",
       "      <td>0.000000</td>\n",
       "      <td>0.000000</td>\n",
       "      <td>0.000000</td>\n",
       "      <td>0.000000</td>\n",
       "      <td>0.000000</td>\n",
       "      <td>2.000000</td>\n",
       "      <td>0.000000</td>\n",
       "      <td>0.000000</td>\n",
       "      <td>0.104167</td>\n",
       "      <td>0.000000</td>\n",
       "      <td>...</td>\n",
       "      <td>0.000000</td>\n",
       "      <td>0.000000</td>\n",
       "      <td>105.000000</td>\n",
       "      <td>0.000000</td>\n",
       "      <td>0.000000</td>\n",
       "      <td>1.000000</td>\n",
       "      <td>0.000000</td>\n",
       "      <td>155.000000</td>\n",
       "      <td>802.000000</td>\n",
       "      <td>0.000000</td>\n",
       "    </tr>\n",
       "    <tr>\n",
       "      <th>max</th>\n",
       "      <td>1.000000</td>\n",
       "      <td>15.000000</td>\n",
       "      <td>4.000000</td>\n",
       "      <td>36.000000</td>\n",
       "      <td>36.000000</td>\n",
       "      <td>84.000000</td>\n",
       "      <td>75.000000</td>\n",
       "      <td>174.625000</td>\n",
       "      <td>184.916700</td>\n",
       "      <td>176.708300</td>\n",
       "      <td>...</td>\n",
       "      <td>88.300380</td>\n",
       "      <td>187.000000</td>\n",
       "      <td>188.000000</td>\n",
       "      <td>186.000000</td>\n",
       "      <td>1.000000</td>\n",
       "      <td>1.000000</td>\n",
       "      <td>1.000000</td>\n",
       "      <td>206.000000</td>\n",
       "      <td>37091.000000</td>\n",
       "      <td>1.000000</td>\n",
       "    </tr>\n",
       "  </tbody>\n",
       "</table>\n",
       "<p>8 rows × 22 columns</p>\n",
       "</div>"
      ],
      "text/plain": [
       "       at_buy_boolean   at_freq_buy  at_freq_last24_buy  at_freq_last24_sv  \\\n",
       "count    54584.000000  54584.000000        54584.000000       54584.000000   \n",
       "mean         0.042632      0.052891            0.001942           0.117049   \n",
       "std          0.202027      0.298157            0.051682           0.822048   \n",
       "min          0.000000      0.000000            0.000000           0.000000   \n",
       "25%          0.000000      0.000000            0.000000           0.000000   \n",
       "50%          0.000000      0.000000            0.000000           0.000000   \n",
       "75%          0.000000      0.000000            0.000000           0.000000   \n",
       "max          1.000000     15.000000            4.000000          36.000000   \n",
       "\n",
       "       at_freq_last24_sv_int_buy    at_freq_sv  at_freq_sv_int_buy  \\\n",
       "count               54584.000000  54584.000000        54584.000000   \n",
       "mean                    0.023542      1.852777            0.271636   \n",
       "std                     0.483363      2.921820            2.206286   \n",
       "min                     0.000000      0.000000            0.000000   \n",
       "25%                     0.000000      1.000000            0.000000   \n",
       "50%                     0.000000      1.000000            0.000000   \n",
       "75%                     0.000000      2.000000            0.000000   \n",
       "max                    36.000000     84.000000           75.000000   \n",
       "\n",
       "       at_interval_buy  at_interval_sv  at_interval_sv_int_buy      ...       \\\n",
       "count     54584.000000    54584.000000            54584.000000      ...        \n",
       "mean          0.210008        5.825610                0.381641      ...        \n",
       "std           3.922016       17.595442                3.884156      ...        \n",
       "min           0.000000        0.000000                0.000000      ...        \n",
       "25%           0.000000        0.000000                0.000000      ...        \n",
       "50%           0.000000        0.000000                0.000000      ...        \n",
       "75%           0.000000        0.104167                0.000000      ...        \n",
       "max         174.625000      184.916700              176.708300      ...        \n",
       "\n",
       "       expected_time_sv_int_buy      last_buy       last_sv  last_sv_int_buy  \\\n",
       "count              54584.000000  54584.000000  54584.000000     54584.000000   \n",
       "mean                  -0.953705      2.791221     64.729335         1.790671   \n",
       "std                    9.792084     17.426907     53.476658        13.042733   \n",
       "min                 -183.362600      0.000000      0.000000         0.000000   \n",
       "25%                    0.000000      0.000000     18.000000         0.000000   \n",
       "50%                    0.000000      0.000000     51.000000         0.000000   \n",
       "75%                    0.000000      0.000000    105.000000         0.000000   \n",
       "max                   88.300380    187.000000    188.000000       186.000000   \n",
       "\n",
       "       multiple_buy   multiple_sv  multiple_sv_int_buy  uniq_content_links  \\\n",
       "count  54584.000000  54584.000000         54584.000000        54584.000000   \n",
       "mean       0.006357      0.277444             0.032739           86.569343   \n",
       "std        0.079479      0.447742             0.177953           61.969765   \n",
       "min        0.000000      0.000000             0.000000           -1.000000   \n",
       "25%        0.000000      0.000000             0.000000           30.000000   \n",
       "50%        0.000000      0.000000             0.000000           75.000000   \n",
       "75%        0.000000      1.000000             0.000000          155.000000   \n",
       "max        1.000000      1.000000             1.000000          206.000000   \n",
       "\n",
       "       num_checkins         y_buy  \n",
       "count  54584.000000  54584.000000  \n",
       "mean     720.657592      0.004635  \n",
       "std     1275.727306      0.067924  \n",
       "min        1.000000      0.000000  \n",
       "25%      127.000000      0.000000  \n",
       "50%      319.000000      0.000000  \n",
       "75%      802.000000      0.000000  \n",
       "max    37091.000000      1.000000  \n",
       "\n",
       "[8 rows x 22 columns]"
      ]
     },
     "execution_count": 7,
     "metadata": {},
     "output_type": "execute_result"
    }
   ],
   "source": [
    "df.describe()"
   ]
  },
  {
   "cell_type": "code",
   "execution_count": 8,
   "metadata": {
    "ExecuteTime": {
     "end_time": "2016-07-29T01:07:07.862931",
     "start_time": "2016-07-29T01:07:07.855857"
    },
    "collapsed": false
   },
   "outputs": [
    {
     "data": {
      "text/plain": [
       "at_freq_buy                  0.136255\n",
       "at_freq_sv_int_buy           0.122409\n",
       "at_freq_sv                   0.118092\n",
       "multiple_sv_int_buy          0.116280\n",
       "at_buy_boolean               0.112434\n",
       "multiple_buy                 0.109926\n",
       "at_freq_last24_sv            0.095936\n",
       "multiple_sv                  0.070968\n",
       "at_interval_buy              0.068453\n",
       "at_freq_last24_sv_int_buy    0.064196\n",
       "last_buy                     0.051738\n",
       "at_interval_sv_int_buy       0.046691\n",
       "at_freq_last24_buy           0.018311\n",
       "last_sv_int_buy              0.016440\n",
       "expected_time_sv             0.011826\n",
       "at_interval_sv               0.011096\n",
       "expected_time_sv_int_buy    -0.004631\n",
       "num_checkins                -0.007766\n",
       "uniq_content_links          -0.019238\n",
       "expected_time_buy           -0.038141\n",
       "last_sv                     -0.059171\n",
       "dtype: float64"
      ]
     },
     "execution_count": 8,
     "metadata": {},
     "output_type": "execute_result"
    }
   ],
   "source": [
    "(df.ix[:,:-1].corrwith(df[\"y_buy\"])).sort_values(ascending=False)"
   ]
  },
  {
   "cell_type": "code",
   "execution_count": 9,
   "metadata": {
    "ExecuteTime": {
     "end_time": "2016-07-29T01:07:11.614877",
     "start_time": "2016-07-29T01:07:11.609529"
    },
    "collapsed": false
   },
   "outputs": [
    {
     "data": {
      "text/plain": [
       "at_buy_boolean                   1.00000\n",
       "multiple_sv_int_buy              1.00000\n",
       "multiple_sv                      1.00000\n",
       "multiple_buy                     1.00000\n",
       "y_buy                            1.00000\n",
       "at_freq_last24_buy               4.00000\n",
       "at_freq_buy                     15.00000\n",
       "at_freq_last24_sv               36.00000\n",
       "at_freq_last24_sv_int_buy       36.00000\n",
       "at_freq_sv_int_buy              75.00000\n",
       "at_freq_sv                      84.00000\n",
       "expected_time_buy               84.28571\n",
       "expected_time_sv_int_buy        88.30038\n",
       "expected_time_sv                91.40192\n",
       "at_interval_buy                174.62500\n",
       "at_interval_sv_int_buy         176.70830\n",
       "at_interval_sv                 184.91670\n",
       "last_sv_int_buy                186.00000\n",
       "last_buy                       187.00000\n",
       "last_sv                        188.00000\n",
       "uniq_content_links             206.00000\n",
       "num_checkins                 37091.00000\n",
       "dtype: float64"
      ]
     },
     "execution_count": 9,
     "metadata": {},
     "output_type": "execute_result"
    }
   ],
   "source": [
    "df.max().sort_values()"
   ]
  },
  {
   "cell_type": "code",
   "execution_count": 10,
   "metadata": {
    "ExecuteTime": {
     "end_time": "2016-07-29T01:07:18.669824",
     "start_time": "2016-07-29T01:07:18.665478"
    },
    "collapsed": false,
    "scrolled": true
   },
   "outputs": [
    {
     "data": {
      "text/plain": [
       "array([[0],\n",
       "       [0],\n",
       "       [0],\n",
       "       [0],\n",
       "       [0]])"
      ]
     },
     "execution_count": 10,
     "metadata": {},
     "output_type": "execute_result"
    }
   ],
   "source": [
    "y_data = df[\"y_buy\"].values.reshape(-1,1)\n",
    "y_data[:5]"
   ]
  },
  {
   "cell_type": "code",
   "execution_count": 11,
   "metadata": {
    "ExecuteTime": {
     "end_time": "2016-07-29T01:07:24.662936",
     "start_time": "2016-07-29T01:07:24.433440"
    },
    "collapsed": false
   },
   "outputs": [
    {
     "data": {
      "text/html": [
       "<div>\n",
       "<table border=\"1\" class=\"dataframe\">\n",
       "  <thead>\n",
       "    <tr style=\"text-align: right;\">\n",
       "      <th></th>\n",
       "      <th>at_buy_boolean</th>\n",
       "      <th>at_freq_buy</th>\n",
       "      <th>at_freq_last24_buy</th>\n",
       "      <th>at_freq_last24_sv</th>\n",
       "      <th>at_freq_last24_sv_int_buy</th>\n",
       "      <th>at_freq_sv</th>\n",
       "      <th>at_freq_sv_int_buy</th>\n",
       "      <th>at_interval_buy</th>\n",
       "      <th>at_interval_sv</th>\n",
       "      <th>at_interval_sv_int_buy</th>\n",
       "      <th>...</th>\n",
       "      <th>expected_time_sv_int_buy</th>\n",
       "      <th>last_buy</th>\n",
       "      <th>last_sv</th>\n",
       "      <th>last_sv_int_buy</th>\n",
       "      <th>multiple_buy</th>\n",
       "      <th>multiple_sv</th>\n",
       "      <th>multiple_sv_int_buy</th>\n",
       "      <th>uniq_content_links</th>\n",
       "      <th>num_checkins</th>\n",
       "      <th>y_buy</th>\n",
       "    </tr>\n",
       "  </thead>\n",
       "  <tbody>\n",
       "    <tr>\n",
       "      <th>0</th>\n",
       "      <td>0</td>\n",
       "      <td>0.0</td>\n",
       "      <td>0.0</td>\n",
       "      <td>0.0</td>\n",
       "      <td>0.0</td>\n",
       "      <td>0.011905</td>\n",
       "      <td>0.0</td>\n",
       "      <td>0.0</td>\n",
       "      <td>0.000000</td>\n",
       "      <td>0.0</td>\n",
       "      <td>...</td>\n",
       "      <td>0.674964</td>\n",
       "      <td>0.0</td>\n",
       "      <td>0.563830</td>\n",
       "      <td>0.0</td>\n",
       "      <td>0</td>\n",
       "      <td>0</td>\n",
       "      <td>0</td>\n",
       "      <td>0.821256</td>\n",
       "      <td>0.057401</td>\n",
       "      <td>0</td>\n",
       "    </tr>\n",
       "    <tr>\n",
       "      <th>1</th>\n",
       "      <td>0</td>\n",
       "      <td>0.0</td>\n",
       "      <td>0.0</td>\n",
       "      <td>0.0</td>\n",
       "      <td>0.0</td>\n",
       "      <td>0.011905</td>\n",
       "      <td>0.0</td>\n",
       "      <td>0.0</td>\n",
       "      <td>0.000000</td>\n",
       "      <td>0.0</td>\n",
       "      <td>...</td>\n",
       "      <td>0.674964</td>\n",
       "      <td>0.0</td>\n",
       "      <td>0.382979</td>\n",
       "      <td>0.0</td>\n",
       "      <td>0</td>\n",
       "      <td>0</td>\n",
       "      <td>0</td>\n",
       "      <td>0.748792</td>\n",
       "      <td>0.029631</td>\n",
       "      <td>0</td>\n",
       "    </tr>\n",
       "    <tr>\n",
       "      <th>2</th>\n",
       "      <td>0</td>\n",
       "      <td>0.0</td>\n",
       "      <td>0.0</td>\n",
       "      <td>0.0</td>\n",
       "      <td>0.0</td>\n",
       "      <td>0.011905</td>\n",
       "      <td>0.0</td>\n",
       "      <td>0.0</td>\n",
       "      <td>0.000000</td>\n",
       "      <td>0.0</td>\n",
       "      <td>...</td>\n",
       "      <td>0.674964</td>\n",
       "      <td>0.0</td>\n",
       "      <td>0.026596</td>\n",
       "      <td>0.0</td>\n",
       "      <td>0</td>\n",
       "      <td>0</td>\n",
       "      <td>0</td>\n",
       "      <td>0.024155</td>\n",
       "      <td>0.000297</td>\n",
       "      <td>0</td>\n",
       "    </tr>\n",
       "    <tr>\n",
       "      <th>3</th>\n",
       "      <td>0</td>\n",
       "      <td>0.0</td>\n",
       "      <td>0.0</td>\n",
       "      <td>0.0</td>\n",
       "      <td>0.0</td>\n",
       "      <td>0.011905</td>\n",
       "      <td>0.0</td>\n",
       "      <td>0.0</td>\n",
       "      <td>0.000000</td>\n",
       "      <td>0.0</td>\n",
       "      <td>...</td>\n",
       "      <td>0.674964</td>\n",
       "      <td>0.0</td>\n",
       "      <td>0.031915</td>\n",
       "      <td>0.0</td>\n",
       "      <td>0</td>\n",
       "      <td>0</td>\n",
       "      <td>0</td>\n",
       "      <td>0.729469</td>\n",
       "      <td>0.014505</td>\n",
       "      <td>0</td>\n",
       "    </tr>\n",
       "    <tr>\n",
       "      <th>4</th>\n",
       "      <td>0</td>\n",
       "      <td>0.0</td>\n",
       "      <td>0.0</td>\n",
       "      <td>0.0</td>\n",
       "      <td>0.0</td>\n",
       "      <td>0.023810</td>\n",
       "      <td>0.0</td>\n",
       "      <td>0.0</td>\n",
       "      <td>0.002704</td>\n",
       "      <td>0.0</td>\n",
       "      <td>...</td>\n",
       "      <td>0.674964</td>\n",
       "      <td>0.0</td>\n",
       "      <td>0.537234</td>\n",
       "      <td>0.0</td>\n",
       "      <td>0</td>\n",
       "      <td>1</td>\n",
       "      <td>0</td>\n",
       "      <td>0.502415</td>\n",
       "      <td>0.009733</td>\n",
       "      <td>0</td>\n",
       "    </tr>\n",
       "  </tbody>\n",
       "</table>\n",
       "<p>5 rows × 22 columns</p>\n",
       "</div>"
      ],
      "text/plain": [
       "   at_buy_boolean  at_freq_buy  at_freq_last24_buy  at_freq_last24_sv  \\\n",
       "0               0          0.0                 0.0                0.0   \n",
       "1               0          0.0                 0.0                0.0   \n",
       "2               0          0.0                 0.0                0.0   \n",
       "3               0          0.0                 0.0                0.0   \n",
       "4               0          0.0                 0.0                0.0   \n",
       "\n",
       "   at_freq_last24_sv_int_buy  at_freq_sv  at_freq_sv_int_buy  at_interval_buy  \\\n",
       "0                        0.0    0.011905                 0.0              0.0   \n",
       "1                        0.0    0.011905                 0.0              0.0   \n",
       "2                        0.0    0.011905                 0.0              0.0   \n",
       "3                        0.0    0.011905                 0.0              0.0   \n",
       "4                        0.0    0.023810                 0.0              0.0   \n",
       "\n",
       "   at_interval_sv  at_interval_sv_int_buy  ...    expected_time_sv_int_buy  \\\n",
       "0        0.000000                     0.0  ...                    0.674964   \n",
       "1        0.000000                     0.0  ...                    0.674964   \n",
       "2        0.000000                     0.0  ...                    0.674964   \n",
       "3        0.000000                     0.0  ...                    0.674964   \n",
       "4        0.002704                     0.0  ...                    0.674964   \n",
       "\n",
       "   last_buy   last_sv  last_sv_int_buy  multiple_buy  multiple_sv  \\\n",
       "0       0.0  0.563830              0.0             0            0   \n",
       "1       0.0  0.382979              0.0             0            0   \n",
       "2       0.0  0.026596              0.0             0            0   \n",
       "3       0.0  0.031915              0.0             0            0   \n",
       "4       0.0  0.537234              0.0             0            1   \n",
       "\n",
       "   multiple_sv_int_buy  uniq_content_links  num_checkins  y_buy  \n",
       "0                    0            0.821256      0.057401      0  \n",
       "1                    0            0.748792      0.029631      0  \n",
       "2                    0            0.024155      0.000297      0  \n",
       "3                    0            0.729469      0.014505      0  \n",
       "4                    0            0.502415      0.009733      0  \n",
       "\n",
       "[5 rows x 22 columns]"
      ]
     },
     "execution_count": 11,
     "metadata": {},
     "output_type": "execute_result"
    }
   ],
   "source": [
    "from sklearn import preprocessing\n",
    "\n",
    "min_max_scaler = preprocessing.MinMaxScaler()\n",
    "scaled_column = []\n",
    "\n",
    "for col_name in df.ix[:,:-1].columns:\n",
    "    if len(df[col_name].unique()) != 2:\n",
    "        scaled_column.append(col_name)\n",
    "\n",
    "        \n",
    "df_scaled = df\n",
    "df_scaled[scaled_column] = min_max_scaler.fit_transform(df_scaled[scaled_column])\n",
    "df_scaled[:5]"
   ]
  },
  {
   "cell_type": "code",
   "execution_count": 12,
   "metadata": {
    "ExecuteTime": {
     "end_time": "2016-07-29T01:07:36.988220",
     "start_time": "2016-07-29T01:07:36.983361"
    },
    "collapsed": false
   },
   "outputs": [
    {
     "data": {
      "text/plain": [
       "array([ 0.        ,  0.        ,  0.        ,  0.        ,  0.        ,\n",
       "        0.01190476,  0.        ,  0.        ,  0.        ,  0.        ,\n",
       "        0.6833858 ,  0.67241512,  0.67496352,  0.        ,  0.38297872,\n",
       "        0.        ,  0.        ,  0.        ,  0.        ,  0.74879227,\n",
       "        0.02963063])"
      ]
     },
     "execution_count": 12,
     "metadata": {},
     "output_type": "execute_result"
    }
   ],
   "source": [
    "x_data = df_scaled.ix[:,:-1].values\n",
    "x_data[1]"
   ]
  },
  {
   "cell_type": "code",
   "execution_count": 15,
   "metadata": {
    "collapsed": false
   },
   "outputs": [],
   "source": [
    "from sklearn.cross_validation import KFold\n",
    "from sklearn import linear_model, datasets\n",
    "from sklearn.metrics import precision_recall_fscore_support\n",
    "\n",
    "kf = KFold(y_data.shape[0], n_folds=5,shuffle=True, )\n",
    "logreg = linear_model.LogisticRegression(fit_intercept=True)"
   ]
  },
  {
   "cell_type": "code",
   "execution_count": 23,
   "metadata": {
    "ExecuteTime": {
     "end_time": "2016-07-29T01:10:22.307199",
     "start_time": "2016-07-29T01:10:22.283953"
    },
    "collapsed": false
   },
   "outputs": [
    {
     "name": "stdout",
     "output_type": "stream",
     "text": [
      "TRAIN: 43667 TEST: 10917\n",
      "(array([    0,     1,     2, ..., 10914, 10915, 10916]),)\n",
      "TRAIN: 43667 TEST: 10917\n",
      "(array([    0,     1,     2, ..., 10914, 10915, 10916]),)\n",
      "TRAIN: 43667 TEST: 10917\n",
      "(array([    0,     1,     2, ..., 10914, 10915, 10916]),)\n",
      "TRAIN: 43667 TEST: 10917\n",
      "(array([    0,     1,     2, ..., 10914, 10915, 10916]),)\n",
      "TRAIN: 43668 TEST: 10916\n",
      "(array([    0,     1,     2, ..., 10913, 10914, 10915]),)\n"
     ]
    }
   ],
   "source": [
    "for i, (train_index, test_index) in enumerate(kf):\n",
    "    print(\"TRAIN:\", len(train_index), \"TEST:\", len(test_index))\n",
    "    X_train, X_test = x_data[train_index], x_data[test_index]\n",
    "    y_train, y_test = y_data[train_index], y_data[test_index]\n",
    "    \n",
    "    logreg.fit(X_train, y_train.ravel())\n",
    "    \n",
    "    y_pred = logreg.predict(X_test)\n",
    "    y_true = y_test.ravel()\n",
    "    \n",
    "    print(np.where(y_pred==0))"
   ]
  }
 ],
 "metadata": {
  "kernelspec": {
   "display_name": "Python 3",
   "language": "python",
   "name": "python3"
  },
  "language_info": {
   "codemirror_mode": {
    "name": "ipython",
    "version": 3.0
   },
   "file_extension": ".py",
   "mimetype": "text/x-python",
   "name": "python",
   "nbconvert_exporter": "python",
   "pygments_lexer": "ipython3",
   "version": "3.4.5"
  },
  "nav_menu": {
   "height": "177px",
   "width": "296px"
  },
  "toc": {
   "navigate_menu": true,
   "number_sections": true,
   "sideBar": true,
   "threshold": 6.0,
   "toc_cell": false,
   "toc_section_display": "block",
   "toc_window_display": false
  }
 },
 "nbformat": 4,
 "nbformat_minor": 0
}
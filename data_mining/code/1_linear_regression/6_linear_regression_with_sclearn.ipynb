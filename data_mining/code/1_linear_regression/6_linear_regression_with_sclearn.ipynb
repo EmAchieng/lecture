{
 "cells": [
  {
   "cell_type": "code",
   "execution_count": 1,
   "metadata": {
    "collapsed": false
   },
   "outputs": [
    {
     "name": "stdout",
     "output_type": "stream",
     "text": [
      "Coefficients:  [[ 1.313456]]\n",
      "intercept:  [ 16.99515723]\n"
     ]
    },
    {
     "data": {
      "image/png": "[encoded data removed]",
      "text/plain": [
       "<matplotlib.figure.Figure at 0x104cd2400>"
      ]
     },
     "metadata": {},
     "output_type": "display_data"
    }
   ],
   "source": [
    "import matplotlib.pyplot as plt\n",
    "import numpy as np\n",
    "from sklearn import  linear_model\n",
    "\n",
    "\n",
    "%matplotlib inline\n",
    "\n",
    "raw_data = np.loadtxt('data/unemployment.csv', \n",
    "           delimiter=',', usecols=(0,1), \n",
    "           unpack=False, dtype=float, skiprows=1)\n",
    "\n",
    "x_data = raw_data[:, 0].reshape(42,1)\n",
    "y_data = raw_data[:, 1].reshape(42,1)\n",
    "regr = linear_model.LinearRegression()\n",
    "\n",
    "regr.fit(x_data, y_data)\n",
    "\n",
    "# # The coefficients\n",
    "print('Coefficients: ', regr.coef_)\n",
    "print('intercept: ', regr.intercept_)                                \n",
    "\n",
    "# Plot outputs\n",
    "plt.scatter(x_data, y_data,  color='black', )\n",
    "plt.plot(x_data, regr.predict(x_data), color='blue',\n",
    "         linewidth=3)\n",
    "\n",
    "plt.xticks(())\n",
    "plt.yticks(())\n",
    "\n",
    "plt.show()"
   ]
  }
 ],
 "metadata": {
  "kernelspec": {
   "display_name": "Python 3",
   "language": "python",
   "name": "python3"
  },
  "language_info": {
   "codemirror_mode": {
    "name": "ipython",
    "version": 3
   },
   "file_extension": ".py",
   "mimetype": "text/x-python",
   "name": "python",
   "nbconvert_exporter": "python",
   "pygments_lexer": "ipython3",
   "version": "3.5.2"
  }
 },
 "nbformat": 4,
 "nbformat_minor": 0
}

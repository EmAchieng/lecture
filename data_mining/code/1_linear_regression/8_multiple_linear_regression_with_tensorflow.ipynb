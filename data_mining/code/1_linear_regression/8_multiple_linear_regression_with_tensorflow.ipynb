{
 "cells": [
  {
   "cell_type": "markdown",
   "metadata": {},
   "source": [
    "### The Boston Housing Dataset\n",
    "https://archive.ics.uci.edu/ml/datasets/Housing"
   ]
  },
  {
   "cell_type": "code",
   "execution_count": 1,
   "metadata": {
    "collapsed": false
   },
   "outputs": [],
   "source": [
    "from sklearn.datasets import load_boston\n",
    "import matplotlib.pyplot as plt\n",
    "import numpy as np\n",
    "import tensorflow as tf\n",
    "%matplotlib inline"
   ]
  },
  {
   "cell_type": "code",
   "execution_count": 2,
   "metadata": {
    "collapsed": true
   },
   "outputs": [],
   "source": [
    "boston = load_boston()\n",
    "\n",
    "x_data = boston.data\n",
    "y_data = boston.target.reshape(boston.target.size,1)"
   ]
  },
  {
   "cell_type": "code",
   "execution_count": 3,
   "metadata": {
    "collapsed": false
   },
   "outputs": [],
   "source": [
    "#reference: http://aimotion.blogspot.kr/2011/10/machine-learning-with-python-linear.html\n",
    "def feature_normalize(X):\n",
    "    '''\n",
    "    Returns a normalized version of X where\n",
    "    the mean value of each feature is 0 and the standard deviation\n",
    "    is 1. This is often a good preprocessing step to do when\n",
    "    working with learning algorithms.\n",
    "    '''\n",
    "    mean_r = []\n",
    "    std_r = []\n",
    "\n",
    "    X_norm = X\n",
    "\n",
    "    n_c = X.shape[1]\n",
    "    for i in range(n_c):\n",
    "        m = np.mean(X[:, i])\n",
    "        s = np.std(X[:, i])\n",
    "        mean_r.append(m)\n",
    "        std_r.append(s)\n",
    "        X_norm[:, i] = (X_norm[:, i] - m) / s\n",
    "\n",
    "    return X_norm, mean_r, std_r\n",
    "\n",
    "x_data, mean_r, std_r = feature_normalize(x_data)"
   ]
  },
  {
   "cell_type": "code",
   "execution_count": 4,
   "metadata": {
    "collapsed": false
   },
   "outputs": [
    {
     "data": {
      "text/plain": [
       "array([[-0.41526932, -0.48772236, -0.59338101, -0.27259857, -0.74026221,\n",
       "         0.19427445,  0.36716642,  0.55715988, -0.8678825 , -0.98732948,\n",
       "        -0.30309415,  0.44105193, -0.49243937],\n",
       "       [-0.41527165, -0.48772236, -0.59338101, -0.27259857, -0.74026221,\n",
       "         1.28271368, -0.26581176,  0.55715988, -0.8678825 , -0.98732948,\n",
       "        -0.30309415,  0.39642699, -1.2087274 ],\n",
       "       [-0.41468015, -0.48772236, -1.30687771, -0.27259857, -0.83528384,\n",
       "         1.01630251, -0.80988851,  1.07773662, -0.75292215, -1.10611514,\n",
       "         0.1130321 ,  0.41616284, -1.36151682],\n",
       "       [-0.41040922, -0.48772236, -1.30687771, -0.27259857, -0.83528384,\n",
       "         1.22857665, -0.51117971,  1.07773662, -0.75292215, -1.10611514,\n",
       "         0.1130321 ,  0.44105193, -1.02650148]])"
      ]
     },
     "execution_count": 4,
     "metadata": {},
     "output_type": "execute_result"
    }
   ],
   "source": [
    "x_data[1:5]"
   ]
  },
  {
   "cell_type": "code",
   "execution_count": 5,
   "metadata": {
    "collapsed": false
   },
   "outputs": [
    {
     "name": "stdout",
     "output_type": "stream",
     "text": [
      "0 365.312\n",
      "50000000 241.685\n",
      "100000000 163.366\n",
      "150000000 113.395\n",
      "200000000 81.4466\n",
      "250000000 60.9849\n",
      "300000000 47.853\n",
      "350000000 39.4033\n",
      "400000000 33.9477\n",
      "450000000 30.4089\n",
      "500000000 28.0989\n",
      "550000000 26.5779\n",
      "600000000 25.5645\n",
      "650000000 24.8786\n",
      "700000000 24.4048\n",
      "750000000 24.069\n",
      "800000000 23.8237\n",
      "850000000 23.6382\n",
      "900000000 23.4929\n",
      "950000000 23.375\n",
      "999999999 23.375\n"
     ]
    }
   ],
   "source": [
    "X = tf.placeholder(tf.float32, shape=x_data.shape)\n",
    "Y = tf.placeholder(tf.float32, shape=y_data.shape)\n",
    "\n",
    "W = tf.Variable(tf.random_uniform([len(x_data[0]), 1], -1.0, 1.0))\n",
    "b = tf.Variable(tf.zeros([1]))\n",
    "\n",
    "hypothesis = tf.matmul(X, W) + b\n",
    "\n",
    "cost = tf.reduce_mean(tf.square(hypothesis - Y))\n",
    "\n",
    "a = tf.Variable(0.1)\n",
    "optimizer = tf.train.GradientDescentOptimizer(a)\n",
    "train = optimizer.minimize(cost)\n",
    "\n",
    "init = tf.initialize_all_variables()\n",
    "\n",
    "sess = tf.Session()\n",
    "sess.run(init)\n",
    "\n",
    "for i in range(1000000000):\n",
    "    if i % 50000000 == 0:\n",
    "        sess.run(train, feed_dict={X: x_data, Y:y_data})\n",
    "        print (i, sess.run(cost, feed_dict={X: x_data, Y:y_data}))\n",
    "\n",
    "print (i, sess.run(cost, feed_dict={X: x_data, Y:y_data}))\n",
    "final_theta = sess.run(W)\n",
    "final_beta = sess.run(b)\n"
   ]
  },
  {
   "cell_type": "code",
   "execution_count": 6,
   "metadata": {
    "collapsed": false
   },
   "outputs": [
    {
     "name": "stdout",
     "output_type": "stream",
     "text": [
      "[ 30.66976342]\n",
      "theta: [[-0.49532893]\n",
      " [ 0.24642706]\n",
      " [-0.40345705]\n",
      " [ 0.79277384]\n",
      " [-0.67480892]\n",
      " [ 3.19331121]\n",
      " [-0.16707268]\n",
      " [-1.58580935]\n",
      " [ 0.56893361]\n",
      " [-0.22812064]\n",
      " [-1.91819763]\n",
      " [ 0.91333205]\n",
      " [-3.53839779]]\n",
      "beta: [ 22.27301979]\n"
     ]
    }
   ],
   "source": [
    "print(np.dot(x_data[0],final_theta) + final_beta)\n",
    "\n",
    "print(\"theta:\", final_theta)\n",
    "print(\"beta:\", final_beta)"
   ]
  },
  {
   "cell_type": "code",
   "execution_count": 8,
   "metadata": {
    "collapsed": false
   },
   "outputs": [
    {
     "name": "stdout",
     "output_type": "stream",
     "text": [
      "Coefficients:  [[-0.92041113  1.08098058  0.14296712  0.68220346 -2.06009246  2.67064141\n",
      "   0.02112063 -3.10444805  2.65878654 -2.07589814 -2.06215593  0.85664044\n",
      "  -3.74867982]]\n",
      "intercept:  [ 22.53280632]\n"
     ]
    },
    {
     "data": {
      "text/plain": [
       "array([[ 30.00821269]])"
      ]
     },
     "execution_count": 8,
     "metadata": {},
     "output_type": "execute_result"
    }
   ],
   "source": [
    "from sklearn.datasets import load_boston\n",
    "from sklearn import  linear_model\n",
    "\n",
    "regr = linear_model.LinearRegression()\n",
    "regr.fit(x_data, y_data)\n",
    "\n",
    "# # The coefficients\n",
    "print('Coefficients: ', regr.coef_)\n",
    "print('intercept: ', regr.intercept_)   \n",
    "\n",
    "regr.predict(x_data[0].reshape(1,-1))"
   ]
  }
 ],
 "metadata": {
  "kernelspec": {
   "display_name": "Python 3",
   "language": "python",
   "name": "python3"
  },
  "language_info": {
   "codemirror_mode": {
    "name": "ipython",
    "version": 3
   },
   "file_extension": ".py",
   "mimetype": "text/x-python",
   "name": "python",
   "nbconvert_exporter": "python",
   "pygments_lexer": "ipython3",
   "version": "3.5.2"
  }
 },
 "nbformat": 4,
 "nbformat_minor": 0
}

{
 "cells": [
  {
   "cell_type": "markdown",
   "metadata": {},
   "source": [
    "<h1>Text Analysis Rating</h1>"
   ]
  },
  {
   "cell_type": "markdown",
   "metadata": {},
   "source": [
    "<h2>Issue</h2>\n",
    "<hr>"
   ]
  },
  {
   "cell_type": "markdown",
   "metadata": {},
   "source": [
    "<h3>1. 웹 페이지 설계</h3><br>\n",
    " - Main\n",
    " <img src=\"main.png\" width=\"700\" height=\"650\"/><br>\n",
    " - Write\n",
    " <img src=\"write.png\" width=\"700\" height=\"650\"/><br>\n",
    " - Predict\n",
    " <img src=\"predict.png\" width=\"700\" height=\"650\"/><br>\n",
    " - Login\n",
    " <img src=\"login.png\" width=\"700\" height=\"650\"/><br>\n",
    " - Signup\n",
    " <img src=\"signup.png\" width=\"700\" height=\"650\"/><br>"
   ]
  },
  {
   "cell_type": "markdown",
   "metadata": {},
   "source": [
    "<h3>2. Accuracy 측정</h3><br>\n",
    " - Multiclass SVM\n",
    " <img src=\"svm.png\" width=\"800\" height=\"780\"/><br>\n",
    " - Logistic Regression\n",
    " <img src=\"log_reg.png\" width=\"800\" height=\"780\"/><br>\n",
    " - Multinomial Naive Bayesian\n",
    " <img src=\"nb.png\" width=\"800\" height=\"780\"/><br>\n",
    " <hr>"
   ]
  },
  {
   "cell_type": "markdown",
   "metadata": {},
   "source": [
    "<h3>차주 계획</h3><br>\n",
    " - 분석 성능 올리기\n",
    " - 실제 문장 대입하여 점수 예측까지 완성하기"
   ]
  }
 ],
 "metadata": {
  "kernelspec": {
   "display_name": "Python 3",
   "language": "python",
   "name": "python3"
  },
  "language_info": {
   "codemirror_mode": {
    "name": "ipython",
    "version": 3
   },
   "file_extension": ".py",
   "mimetype": "text/x-python",
   "name": "python",
   "nbconvert_exporter": "python",
   "pygments_lexer": "ipython3",
   "version": "3.5.0"
  }
 },
 "nbformat": 4,
 "nbformat_minor": 2
}

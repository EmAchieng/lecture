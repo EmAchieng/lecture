{
 "cells": [
  {
   "cell_type": "code",
   "execution_count": 1,
   "metadata": {
    "collapsed": true
   },
   "outputs": [],
   "source": [
    "import pandas as pd\n",
    "import numpy as np\n",
    "from sklearn import datasets"
   ]
  },
  {
   "cell_type": "code",
   "execution_count": 2,
   "metadata": {
    "collapsed": false
   },
   "outputs": [],
   "source": [
    "digits = datasets.load_digits()\n",
    "images_and_labels = list(zip(digits.images, digits.target))\n",
    "n_samples = len(digits.images)\n",
    "X = digits.images.reshape((n_samples, -1))\n",
    "Y = digits.target"
   ]
  },
  {
   "cell_type": "code",
   "execution_count": 3,
   "metadata": {
    "collapsed": false
   },
   "outputs": [
    {
     "data": {
      "text/plain": [
       "((1797, 64), (1797,))"
      ]
     },
     "execution_count": 3,
     "metadata": {},
     "output_type": "execute_result"
    }
   ],
   "source": [
    "X.shape, Y.shape"
   ]
  },
  {
   "cell_type": "code",
   "execution_count": 4,
   "metadata": {
    "collapsed": false
   },
   "outputs": [
    {
     "data": {
      "text/plain": [
       "array([1793, 1763,   84, 1064, 1338,  977,  942,  879, 1510, 1038, 1538,\n",
       "        719,  845,  695,  538, 1520,  152,  785, 1683,   60, 1048,  101,\n",
       "          0, 1109,  659,  445,  376,  306, 1485,  810,  524,  539,  222,\n",
       "         19, 1618, 1755, 1274,  796,  595, 1325,  688, 1502, 1265,  946,\n",
       "       1789,  417, 1393, 1440,  416,  309,  998,  443, 1243,  933,  410,\n",
       "        818, 1492,  909,   27, 1610,  584,  819,  887,  564, 1107,  138,\n",
       "         66, 1489,  428,  556,   75, 1268,  952,   24,  279, 1010,  254,\n",
       "       1619, 1276,  153,   53,  204,  969,  349, 1096, 1660,  643,    7,\n",
       "       1525,  701,   47, 1430,  148,  585,  276, 1257,   35, 1548,  103,\n",
       "        406])"
      ]
     },
     "execution_count": 4,
     "metadata": {},
     "output_type": "execute_result"
    }
   ],
   "source": [
    "random_index = np.arange(n_samples)\n",
    "np.random.shuffle(random_index)\n",
    "random_index[:100]"
   ]
  },
  {
   "cell_type": "code",
   "execution_count": 5,
   "metadata": {
    "collapsed": false
   },
   "outputs": [
    {
     "data": {
      "text/plain": [
       "179"
      ]
     },
     "execution_count": 5,
     "metadata": {},
     "output_type": "execute_result"
    }
   ],
   "source": [
    "fold_count = int(n_samples / 10)\n",
    "fold_count"
   ]
  },
  {
   "cell_type": "code",
   "execution_count": 6,
   "metadata": {
    "collapsed": false
   },
   "outputs": [
    {
     "data": {
      "text/plain": [
       "((1074,), (358,), (365,))"
      ]
     },
     "execution_count": 6,
     "metadata": {},
     "output_type": "execute_result"
    }
   ],
   "source": [
    "training_index = random_index[:fold_count*6]\n",
    "validation_index = random_index[fold_count*6:fold_count*8]\n",
    "test_index = random_index[fold_count*8:] \n",
    "\n",
    "training_index.shape, validation_index.shape, test_index.shape"
   ]
  },
  {
   "cell_type": "code",
   "execution_count": 20,
   "metadata": {
    "collapsed": false
   },
   "outputs": [],
   "source": [
    "from sklearn.metrics import accuracy_score\n",
    "from sklearn.neural_network import MLPClassifier\n",
    "\n",
    "iter_counts = [i for i in range(1, 2000, 10)]\n",
    "training_accuracy = []\n",
    "validation_accuracy = []\n",
    "\n",
    "for iter_count in iter_counts:\n",
    "    clf = MLPClassifier(solver='lbfgs', alpha=1e-5,\n",
    "        hidden_layer_sizes=(3, 2), random_state=1, max_iter=iter_count, early_stopping=False)\n",
    "    clf.fit(X[training_index], Y[training_index])       \n",
    "    \n",
    "    training_accuracy.append(1 - accuracy_score(Y[training_index], clf.predict(X[training_index])))\n",
    "    validation_accuracy.append(1- accuracy_score(Y[validation_index], clf.predict(X[validation_index])))"
   ]
  },
  {
   "cell_type": "code",
   "execution_count": 21,
   "metadata": {
    "collapsed": false
   },
   "outputs": [
    {
     "data": {
      "image/png": "[encoded data removed]",
      "text/plain": [
       "<matplotlib.figure.Figure at 0x25dc4cbe1d0>"
      ]
     },
     "metadata": {},
     "output_type": "display_data"
    }
   ],
   "source": [
    "import matplotlib.pyplot as plt\n",
    "\n",
    "plt.xlabel('Iterations')\n",
    "plt.ylabel('Error')\n",
    "\n",
    "\n",
    "training_label, = plt.plot(iter_counts, training_accuracy, label=\"training\")\n",
    "validation_label, =  plt.plot(iter_counts, validation_accuracy, label=\"validation\")\n",
    "\n",
    "plt.legend(handles=[training_label, validation_label])\n",
    "# plt.axis([iter_counts[0], iter_counts[-1], 0.0, 0.5])\n",
    "\n",
    "plt.show()"
   ]
  },
  {
   "cell_type": "code",
   "execution_count": 22,
   "metadata": {
    "collapsed": false
   },
   "outputs": [
    {
     "data": {
      "text/plain": [
       "0.27945205479452057"
      ]
     },
     "execution_count": 22,
     "metadata": {},
     "output_type": "execute_result"
    }
   ],
   "source": [
    "accuracy_score(Y[test_index], clf.predict(X[test_index]))"
   ]
  },
  {
   "cell_type": "code",
   "execution_count": 23,
   "metadata": {
    "collapsed": false
   },
   "outputs": [],
   "source": [
    "from sklearn import tree\n",
    "\n",
    "iter_counts = [i for i in range(5, 1000, 5)]\n",
    "training_accuracy = []\n",
    "validation_accuracy = []\n",
    "\n",
    "for iter_count in iter_counts:\n",
    "    clf = tree.DecisionTreeClassifier(max_leaf_nodes=iter_count)\n",
    "\n",
    "    clf.fit(X[training_index], Y[training_index])       \n",
    "    \n",
    "    training_accuracy.append(1 - accuracy_score(Y[training_index], clf.predict(X[training_index])))\n",
    "    validation_accuracy.append(1- accuracy_score(Y[validation_index], clf.predict(X[validation_index])))"
   ]
  },
  {
   "cell_type": "code",
   "execution_count": 24,
   "metadata": {
    "collapsed": false
   },
   "outputs": [
    {
     "data": {
      "image/png": "[encoded data removed]",
      "text/plain": [
       "<matplotlib.figure.Figure at 0x25dc4d3e0f0>"
      ]
     },
     "metadata": {},
     "output_type": "display_data"
    }
   ],
   "source": [
    "import matplotlib.pyplot as plt\n",
    "\n",
    "plt.xlabel('Iterations')\n",
    "plt.ylabel('Error')\n",
    "\n",
    "\n",
    "training_label, = plt.plot(iter_counts, training_accuracy, label=\"training\")\n",
    "validation_label, =  plt.plot(iter_counts, validation_accuracy, label=\"validation\")\n",
    "\n",
    "plt.legend(handles=[training_label, validation_label])\n",
    "# plt.axis([iter_counts[0], iter_counts[-1], 0.0, 0.5])\n",
    "\n",
    "plt.show()"
   ]
  },
  {
   "cell_type": "code",
   "execution_count": 26,
   "metadata": {
    "collapsed": false
   },
   "outputs": [
    {
     "data": {
      "text/plain": [
       "0.88767123287671235"
      ]
     },
     "execution_count": 26,
     "metadata": {},
     "output_type": "execute_result"
    }
   ],
   "source": [
    "accuracy_score(Y[test_index], clf.predict(X[test_index]))"
   ]
  }
 ],
 "metadata": {
  "kernelspec": {
   "display_name": "Python 3",
   "language": "python",
   "name": "python3"
  },
  "language_info": {
   "codemirror_mode": {
    "name": "ipython",
    "version": 3
   },
   "file_extension": ".py",
   "mimetype": "text/x-python",
   "name": "python",
   "nbconvert_exporter": "python",
   "pygments_lexer": "ipython3",
   "version": "3.5.2"
  }
 },
 "nbformat": 4,
 "nbformat_minor": 2
}
